{
  "nbformat": 4,
  "nbformat_minor": 0,
  "metadata": {
    "colab": {
      "provenance": [],
      "toc_visible": true,
      "authorship_tag": "ABX9TyO58187UqKxfDPCo7RbGMeL",
      "include_colab_link": true
    },
    "kernelspec": {
      "name": "python3",
      "display_name": "Python 3"
    },
    "language_info": {
      "name": "python"
    }
  },
  "cells": [
    {
      "cell_type": "markdown",
      "metadata": {
        "id": "view-in-github",
        "colab_type": "text"
      },
      "source": [
        "<a href=\"https://colab.research.google.com/github/mohamedyasser951/MachineLearning/blob/main/DigitRecognitionWithKeras.ipynb\" target=\"_parent\"><img src=\"https://colab.research.google.com/assets/colab-badge.svg\" alt=\"Open In Colab\"/></a>"
      ]
    },
    {
      "cell_type": "code",
      "execution_count": null,
      "metadata": {
        "id": "xHondWjSUe1P"
      },
      "outputs": [],
      "source": [
        "# ! pip install tensorflow==2.6\n",
        "# ! pip install keras==2.6\n",
        "\n",
        "import pandas as pd\n",
        "import numpy as np\n",
        "import matplotlib.pyplot as plt\n",
        "import tensorflow as tf\n",
        "from tensorflow.keras.datasets import mnist\n",
        "from tensorflow.keras.layers import Dense,Dropout,Activation\n"
      ]
    },
    {
      "cell_type": "code",
      "source": [
        "\n"
      ],
      "metadata": {
        "colab": {
          "base_uri": "https://localhost:8080/"
        },
        "id": "oj4DdbhfdciA",
        "outputId": "5eeee1e9-f218-4580-be0e-83196fe68078"
      },
      "execution_count": null,
      "outputs": [
        {
          "output_type": "stream",
          "name": "stdout",
          "text": [
            "Found existing installation: keras 2.6.0\n",
            "Uninstalling keras-2.6.0:\n",
            "  Would remove:\n",
            "    /usr/local/lib/python3.9/dist-packages/keras-2.6.0.dist-info/*\n",
            "    /usr/local/lib/python3.9/dist-packages/keras/*\n",
            "Proceed (Y/n)? y\n",
            "  Successfully uninstalled keras-2.6.0\n",
            "\u001b[33mWARNING: Skipping Tensorflow as it is not installed.\u001b[0m\u001b[33m\n",
            "\u001b[0m"
          ]
        }
      ]
    },
    {
      "cell_type": "code",
      "source": [
        "(x_train,y_train),(x_test,y_test)= mnist.load_data()"
      ],
      "metadata": {
        "id": "mcOb04NQWJx8"
      },
      "execution_count": null,
      "outputs": []
    },
    {
      "cell_type": "code",
      "source": [
        "for i in range(9):\n",
        "  plt.subplot(3,3,i+1)\n",
        "  plt.tight_layout()\n",
        "  plt.imshow(x_train[i],cmap=\"gray\")\n",
        "  plt.title(y_train[i])\n",
        "  plt.xticks([])\n",
        "  plt.yticks([])"
      ],
      "metadata": {
        "colab": {
          "base_uri": "https://localhost:8080/",
          "height": 284
        },
        "id": "qbbzEdf8W8U1",
        "outputId": "6b36cda7-0388-40af-91b2-01d464faa79e"
      },
      "execution_count": null,
      "outputs": [
        {
          "output_type": "display_data",
          "data": {
            "text/plain": [
              "<Figure size 432x288 with 9 Axes>"
            ],
            "image/png": "[encoded data removed]"
          },
          "metadata": {}
        }
      ]
    },
    {
      "cell_type": "code",
      "source": [
        "#Reshape\n",
        "x_train =x_train.reshape(60000,784)\n",
        "x_test =x_test.reshape(10000,784)\n",
        "x_train= x_train.astype(\"float32\")\n",
        "x_test= x_test.astype(\"float32\")"
      ],
      "metadata": {
        "id": "2OMu-87OYbc_"
      },
      "execution_count": null,
      "outputs": []
    },
    {
      "cell_type": "code",
      "source": [
        "#Normalization\n",
        "x_train /=255\n",
        "x_test /=255"
      ],
      "metadata": {
        "id": "abSy8bEVYJsm"
      },
      "execution_count": null,
      "outputs": []
    },
    {
      "cell_type": "code",
      "source": [
        "#one Hot Encoding\n",
        "num_classes = 10\n",
        "y_train = tf.keras.utils.to_categorical(y_train,num_classes)\n",
        "y_test = tf.keras.utils.to_categorical(y_test,num_classes)\n",
        "y_train.shape"
      ],
      "metadata": {
        "colab": {
          "base_uri": "https://localhost:8080/"
        },
        "id": "QrC-lALkZG4z",
        "outputId": "195c3f1f-c5bc-4161-c34c-8353b8596a16"
      },
      "execution_count": null,
      "outputs": [
        {
          "output_type": "execute_result",
          "data": {
            "text/plain": [
              "(60000, 10)"
            ]
          },
          "metadata": {},
          "execution_count": 48
        }
      ]
    },
    {
      "cell_type": "code",
      "source": [
        "# from tensorflow.keras.models import Sequential\n",
        "model = tf.keras.models.Sequential()\n",
        "model.add(Dense(1000,input_shape=(784,),activation=\"relu\"))\n",
        "model.add(Dropout(0.2))\n",
        "model.add(Dense(512,activation=\"relu\"))\n",
        "model.add(Dropout(0.2))\n",
        "model.add(Dense(10,activation=\"softmax\"))\n"
      ],
      "metadata": {
        "id": "9T9X2cPcbypk"
      },
      "execution_count": null,
      "outputs": []
    },
    {
      "cell_type": "code",
      "source": [
        "model.compile(loss=\"categorical_crossentropy\",metrics=[\"accuracy\"],optimizer=\"adam\")\n"
      ],
      "metadata": {
        "id": "2n4fOaudefuD"
      },
      "execution_count": null,
      "outputs": []
    },
    {
      "cell_type": "code",
      "source": [
        "#training the model \n",
        "\n",
        "data = model.fit(x_train,y_train,epochs=20,batch_size=128,verbose=2,validation_data=(x_test,y_test))"
      ],
      "metadata": {
        "colab": {
          "base_uri": "https://localhost:8080/"
        },
        "id": "YiF9el_CkQcE",
        "outputId": "c3c51349-4298-4bb8-83b2-cd7cea9a4c6c"
      },
      "execution_count": null,
      "outputs": [
        {
          "output_type": "stream",
          "name": "stdout",
          "text": [
            "Epoch 1/20\n"
          ]
        },
        {
          "output_type": "stream",
          "name": "stderr",
          "text": [
            "WARNING:tensorflow:AutoGraph could not transform <function Model.make_train_function.<locals>.train_function at 0x7f246bef14c0> and will run it as-is.\n",
            "Please report this to the TensorFlow team. When filing the bug, set the verbosity to 10 (on Linux, `export AUTOGRAPH_VERBOSITY=10`) and attach the full output.\n",
            "Cause: closure mismatch, requested ('self', 'step_function'), but source function had ()\n",
            "To silence this warning, decorate the function with @tf.autograph.experimental.do_not_convert\n"
          ]
        },
        {
          "output_type": "stream",
          "name": "stdout",
          "text": [
            "WARNING: AutoGraph could not transform <function Model.make_train_function.<locals>.train_function at 0x7f246bef14c0> and will run it as-is.\n",
            "Please report this to the TensorFlow team. When filing the bug, set the verbosity to 10 (on Linux, `export AUTOGRAPH_VERBOSITY=10`) and attach the full output.\n",
            "Cause: closure mismatch, requested ('self', 'step_function'), but source function had ()\n",
            "To silence this warning, decorate the function with @tf.autograph.experimental.do_not_convert\n"
          ]
        },
        {
          "output_type": "stream",
          "name": "stderr",
          "text": [
            "WARNING:tensorflow:AutoGraph could not transform <function Model.make_test_function.<locals>.test_function at 0x7f246b765ee0> and will run it as-is.\n",
            "Please report this to the TensorFlow team. When filing the bug, set the verbosity to 10 (on Linux, `export AUTOGRAPH_VERBOSITY=10`) and attach the full output.\n",
            "Cause: closure mismatch, requested ('self', 'step_function'), but source function had ()\n",
            "To silence this warning, decorate the function with @tf.autograph.experimental.do_not_convert\n"
          ]
        },
        {
          "output_type": "stream",
          "name": "stdout",
          "text": [
            "WARNING: AutoGraph could not transform <function Model.make_test_function.<locals>.test_function at 0x7f246b765ee0> and will run it as-is.\n",
            "Please report this to the TensorFlow team. When filing the bug, set the verbosity to 10 (on Linux, `export AUTOGRAPH_VERBOSITY=10`) and attach the full output.\n",
            "Cause: closure mismatch, requested ('self', 'step_function'), but source function had ()\n",
            "To silence this warning, decorate the function with @tf.autograph.experimental.do_not_convert\n",
            "469/469 - 18s - loss: 0.2259 - accuracy: 0.9311 - val_loss: 0.0951 - val_accuracy: 0.9694 - 18s/epoch - 38ms/step\n",
            "Epoch 2/20\n",
            "469/469 - 17s - loss: 0.0905 - accuracy: 0.9719 - val_loss: 0.0827 - val_accuracy: 0.9727 - 17s/epoch - 35ms/step\n",
            "Epoch 3/20\n",
            "469/469 - 17s - loss: 0.0665 - accuracy: 0.9793 - val_loss: 0.0650 - val_accuracy: 0.9788 - 17s/epoch - 36ms/step\n",
            "Epoch 4/20\n",
            "469/469 - 21s - loss: 0.0494 - accuracy: 0.9835 - val_loss: 0.0673 - val_accuracy: 0.9781 - 21s/epoch - 45ms/step\n",
            "Epoch 5/20\n",
            "469/469 - 17s - loss: 0.0404 - accuracy: 0.9871 - val_loss: 0.0659 - val_accuracy: 0.9827 - 17s/epoch - 37ms/step\n",
            "Epoch 6/20\n",
            "469/469 - 17s - loss: 0.0355 - accuracy: 0.9886 - val_loss: 0.0714 - val_accuracy: 0.9808 - 17s/epoch - 36ms/step\n",
            "Epoch 7/20\n",
            "469/469 - 17s - loss: 0.0306 - accuracy: 0.9895 - val_loss: 0.0634 - val_accuracy: 0.9823 - 17s/epoch - 36ms/step\n",
            "Epoch 8/20\n",
            "469/469 - 17s - loss: 0.0276 - accuracy: 0.9910 - val_loss: 0.0745 - val_accuracy: 0.9794 - 17s/epoch - 35ms/step\n",
            "Epoch 9/20\n",
            "469/469 - 17s - loss: 0.0256 - accuracy: 0.9916 - val_loss: 0.0586 - val_accuracy: 0.9835 - 17s/epoch - 37ms/step\n",
            "Epoch 10/20\n",
            "469/469 - 17s - loss: 0.0223 - accuracy: 0.9926 - val_loss: 0.0701 - val_accuracy: 0.9820 - 17s/epoch - 36ms/step\n",
            "Epoch 11/20\n",
            "469/469 - 17s - loss: 0.0208 - accuracy: 0.9930 - val_loss: 0.0695 - val_accuracy: 0.9840 - 17s/epoch - 36ms/step\n",
            "Epoch 12/20\n",
            "469/469 - 16s - loss: 0.0206 - accuracy: 0.9932 - val_loss: 0.0766 - val_accuracy: 0.9809 - 16s/epoch - 35ms/step\n",
            "Epoch 13/20\n",
            "469/469 - 17s - loss: 0.0211 - accuracy: 0.9930 - val_loss: 0.0700 - val_accuracy: 0.9835 - 17s/epoch - 37ms/step\n",
            "Epoch 14/20\n",
            "469/469 - 18s - loss: 0.0159 - accuracy: 0.9947 - val_loss: 0.0973 - val_accuracy: 0.9785 - 18s/epoch - 39ms/step\n",
            "Epoch 15/20\n",
            "469/469 - 17s - loss: 0.0168 - accuracy: 0.9948 - val_loss: 0.0883 - val_accuracy: 0.9814 - 17s/epoch - 37ms/step\n",
            "Epoch 16/20\n",
            "469/469 - 20s - loss: 0.0176 - accuracy: 0.9942 - val_loss: 0.0861 - val_accuracy: 0.9820 - 20s/epoch - 43ms/step\n",
            "Epoch 17/20\n",
            "469/469 - 17s - loss: 0.0139 - accuracy: 0.9954 - val_loss: 0.0821 - val_accuracy: 0.9812 - 17s/epoch - 35ms/step\n",
            "Epoch 18/20\n",
            "469/469 - 16s - loss: 0.0165 - accuracy: 0.9947 - val_loss: 0.0833 - val_accuracy: 0.9813 - 16s/epoch - 35ms/step\n",
            "Epoch 19/20\n",
            "469/469 - 16s - loss: 0.0150 - accuracy: 0.9955 - val_loss: 0.0888 - val_accuracy: 0.9810 - 16s/epoch - 35ms/step\n",
            "Epoch 20/20\n",
            "469/469 - 17s - loss: 0.0147 - accuracy: 0.9956 - val_loss: 0.0740 - val_accuracy: 0.9845 - 17s/epoch - 35ms/step\n"
          ]
        }
      ]
    },
    {
      "cell_type": "code",
      "source": [
        "loss_and_accuracy = model.evaluate(x_test,y_test)\n"
      ],
      "metadata": {
        "colab": {
          "base_uri": "https://localhost:8080/"
        },
        "id": "XGYgdLX9oJRn",
        "outputId": "d05ba386-04b3-43c8-89dd-91355e01a35b"
      },
      "execution_count": null,
      "outputs": [
        {
          "output_type": "stream",
          "name": "stdout",
          "text": [
            "313/313 [==============================] - 2s 5ms/step - loss: 0.0740 - accuracy: 0.9845\n"
          ]
        }
      ]
    },
    {
      "cell_type": "code",
      "source": [
        "predicated_classes = model.predict(x_test)\n",
        "predicated_classes = np.argmax(predicated_classes,axis=-1)\n"
      ],
      "metadata": {
        "colab": {
          "base_uri": "https://localhost:8080/"
        },
        "id": "cnHeIVKwopS_",
        "outputId": "235d5192-edf4-4de5-f80b-875de3893be3"
      },
      "execution_count": null,
      "outputs": [
        {
          "output_type": "stream",
          "name": "stdout",
          "text": [
            "313/313 [==============================] - 2s 8ms/step\n"
          ]
        }
      ]
    },
    {
      "cell_type": "code",
      "source": [],
      "metadata": {
        "colab": {
          "base_uri": "https://localhost:8080/"
        },
        "id": "7hilc39KpOrS",
        "outputId": "d9dc2c8a-8af4-4597-b772-8056eebf4ec9"
      },
      "execution_count": null,
      "outputs": [
        {
          "output_type": "execute_result",
          "data": {
            "text/plain": [
              "array([7, 2, 1, ..., 4, 5, 6])"
            ]
          },
          "metadata": {},
          "execution_count": 93
        }
      ]
    },
    {
      "cell_type": "code",
      "source": [
        "print(predicated_classes[600])\n",
        "plt.imshow(x_test[600].reshape(28,28),cmap=\"gray\")"
      ],
      "metadata": {
        "colab": {
          "base_uri": "https://localhost:8080/",
          "height": 300
        },
        "id": "IcGoiexKpOxV",
        "outputId": "e0c53b0e-9109-499b-cae8-54fe7e365310"
      },
      "execution_count": null,
      "outputs": [
        {
          "output_type": "stream",
          "name": "stdout",
          "text": [
            "6\n"
          ]
        },
        {
          "output_type": "execute_result",
          "data": {
            "text/plain": [
              "<matplotlib.image.AxesImage at 0x7f246b9cc9d0>"
            ]
          },
          "metadata": {},
          "execution_count": 98
        },
        {
          "output_type": "display_data",
          "data": {
            "text/plain": [
              "<Figure size 432x288 with 1 Axes>"
            ],
            "image/png": "[encoded data removed]"
          },
          "metadata": {
            "needs_background": "light"
          }
        }
      ]
    }
  ]
}